{
 "cells": [
  {
   "cell_type": "code",
   "execution_count": 1,
   "metadata": {},
   "outputs": [],
   "source": [
    "is_next = None\n",
    "num = int(input(\"Enter the number of points: \"))\n",
    "if num >= 83:\n",
    "    is_next = True\n",
    "else:\n",
    "    is_next = False"
   ]
  },
  {
   "cell_type": "code",
   "execution_count": null,
   "metadata": {},
   "outputs": [],
   "source": [
    "work_experience = int(input(\"Enter your full work experience in years: \"))\n",
    "\n",
    "if work_experience > 1 and work_experience <= 5:\n",
    "    developer_type = \"Middle\"\n",
    "elif work_experience <= 1:\n",
    "    developer_type = \"Junior\"\n",
    "else:\n",
    "    developer_type = \"Senior\""
   ]
  },
  {
   "cell_type": "code",
   "execution_count": null,
   "metadata": {},
   "outputs": [],
   "source": [
    "num = int(input(\"Enter a number: \"))\n",
    "\n",
    "if num > 0:\n",
    "    if num % 2 == 1:\n",
    "        result = \"Positive odd number\"\n",
    "    else:\n",
    "        result = \"Positive even number\"\n",
    "elif num < 0:\n",
    "    result = \"Negative number\"\n",
    "else:\n",
    "    result = \"It is zero\""
   ]
  },
  {
   "cell_type": "code",
   "execution_count": null,
   "metadata": {},
   "outputs": [],
   "source": [
    "num = int(input(\"Enter the integer (0 to 100): \"))\n",
    "sum = 0\n",
    "i = 1\n",
    "while i <= num:\n",
    "    sum += i\n",
    "    i += 1"
   ]
  },
  {
   "cell_type": "code",
   "execution_count": null,
   "metadata": {},
   "outputs": [],
   "source": [
    "message = \"Never argue with stupid people, they will drag you down to their level and then beat you with experience.\"\n",
    "search = \"r\"\n",
    "result = 0\n",
    "for i in message:\n",
    "    if i == search:\n",
    "        result += 1"
   ]
  },
  {
   "cell_type": "code",
   "execution_count": 2,
   "metadata": {},
   "outputs": [],
   "source": [
    "pool = 1000\n",
    "quantity = int(input(\"Enter the number of mailings: \"))\n",
    "try:\n",
    "    chunk = int(pool / quantity)\n",
    "except ZeroDivisionError:\n",
    "    print(\"Divide by zero completed!\")"
   ]
  },
  {
   "cell_type": "code",
   "execution_count": null,
   "metadata": {},
   "outputs": [],
   "source": [
    "def greeting():\n",
    "    print(\"Hello world!\")\n",
    "\n",
    "\n",
    "greeting()"
   ]
  },
  {
   "cell_type": "code",
   "execution_count": null,
   "metadata": {},
   "outputs": [],
   "source": [
    "def invite_to_event(username):\n",
    "    return f\"Dear {username}, we have the honour to invite you to our event\""
   ]
  },
  {
   "cell_type": "code",
   "execution_count": null,
   "metadata": {},
   "outputs": [],
   "source": [
    "def discount_price(price, discount):\n",
    "    def apply_discount():\n",
    "        nonlocal price\n",
    "        price = price * (1 - discount)\n",
    "\n",
    "    apply_discount()\n",
    "    return price"
   ]
  },
  {
   "cell_type": "code",
   "execution_count": 18,
   "metadata": {},
   "outputs": [],
   "source": [
    "def get_fullname(first_name, last_name, middle_name=\"\"):\n",
    "    if middle_name != \"\":\n",
    "        print(f\"{first_name} {middle_name} {last_name}\")\n",
    "    else:\n",
    "        print(f\"{first_name} {last_name}\")"
   ]
  },
  {
   "cell_type": "code",
   "execution_count": 19,
   "metadata": {},
   "outputs": [
    {
     "name": "stdout",
     "output_type": "stream",
     "text": [
      "Marina Lysenko\n"
     ]
    }
   ],
   "source": [
    "get_fullname(\"Marina\", \"Lysenko\")"
   ]
  },
  {
   "cell_type": "code",
   "execution_count": 20,
   "metadata": {},
   "outputs": [
    {
     "name": "stdout",
     "output_type": "stream",
     "text": [
      "Marina Hryhorivna Lysenko\n"
     ]
    }
   ],
   "source": [
    "get_fullname(\"Marina\", \"Lysenko\", \"Hryhorivna\")"
   ]
  },
  {
   "cell_type": "code",
   "execution_count": 21,
   "metadata": {},
   "outputs": [],
   "source": [
    "def get_fullname(first_name, last_name, middle_name=\"\"):\n",
    "    res =\"\"\n",
    "    if middle_name != \"\":\n",
    "        r=f\"{first_name} {middle_name} {last_name}\"\n",
    "    else:\n",
    "        r=f\"{first_name} {last_name}\"\n",
    "    return r"
   ]
  },
  {
   "cell_type": "code",
   "execution_count": 22,
   "metadata": {},
   "outputs": [
    {
     "data": {
      "text/plain": [
       "'Marina Lysenko'"
      ]
     },
     "execution_count": 22,
     "metadata": {},
     "output_type": "execute_result"
    }
   ],
   "source": [
    "get_fullname(\"Marina\", \"Lysenko\")"
   ]
  },
  {
   "cell_type": "code",
   "execution_count": 25,
   "metadata": {},
   "outputs": [],
   "source": [
    "def format_string(string, length):\n",
    "    res = string\n",
    "    if len(string) < length:\n",
    "        res = \" \" * ((length - len(string)) // 2) + string\n",
    "    return res"
   ]
  },
  {
   "cell_type": "code",
   "execution_count": 28,
   "metadata": {},
   "outputs": [
    {
     "data": {
      "text/plain": [
       "'  '"
      ]
     },
     "execution_count": 28,
     "metadata": {},
     "output_type": "execute_result"
    }
   ],
   "source": [
    "string = \"Marina\"\n",
    "length = 10\n",
    "\n",
    "(length - len(string)) // 2\n",
    "\" \" * ((length - len(string)) // 2)"
   ]
  },
  {
   "cell_type": "code",
   "execution_count": 29,
   "metadata": {},
   "outputs": [
    {
     "name": "stdout",
     "output_type": "stream",
     "text": [
      "8\n",
      "3\n",
      "6\n",
      "12\n"
     ]
    }
   ],
   "source": [
    "def first(size, *args):\n",
    "    return size + len(args)\n",
    "\n",
    "\n",
    "def second(size, **kwargs):\n",
    "    return size + len(kwargs)\n",
    "\n",
    "\n",
    "print(first(5, \"first\", \"second\", \"third\"))  # Результат: 8\n",
    "print(first(1, \"Alex\", \"Boris\"))  # Результат: 3\n",
    "print(\n",
    "    second(3, comment_one=\"first\", comment_two=\"second\", comment_third=\"third\")\n",
    ")  # Результат: 6\n",
    "print(second(10, comment_one=\"Alex\", comment_two=\"Boris\"))  # Результат: 1"
   ]
  },
  {
   "cell_type": "code",
   "execution_count": null,
   "metadata": {},
   "outputs": [],
   "source": [
    "def factorial(n):\n",
    "    if n < 2:\n",
    "        return 1\n",
    "    else:\n",
    "        return n * factorial(n - 1)\n",
    "\n",
    "\n",
    "def number_of_groups(n, k):\n",
    "    return int(factorial(n) / (factorial(n - k) * factorial(k)))"
   ]
  }
 ],
 "metadata": {
  "kernelspec": {
   "display_name": "Python 3",
   "language": "python",
   "name": "python3"
  },
  "language_info": {
   "codemirror_mode": {
    "name": "ipython",
    "version": 3
   },
   "file_extension": ".py",
   "mimetype": "text/x-python",
   "name": "python",
   "nbconvert_exporter": "python",
   "pygments_lexer": "ipython3",
   "version": "3.10.12"
  }
 },
 "nbformat": 4,
 "nbformat_minor": 2
}
