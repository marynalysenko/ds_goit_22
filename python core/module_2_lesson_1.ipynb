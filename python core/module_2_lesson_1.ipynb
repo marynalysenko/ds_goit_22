{
 "cells": [
  {
   "cell_type": "code",
   "execution_count": 1,
   "metadata": {},
   "outputs": [
    {
     "name": "stdout",
     "output_type": "stream",
     "text": [
      "b is zero\n"
     ]
    }
   ],
   "source": [
    "# test 1\n",
    "a=int(input(\"1st number:\"))\n",
    "b=int(input(\"2nd number:\"))\n",
    "if b!=0:\n",
    "    print(f\"a/b={a/b}\")\n",
    "else:\n",
    "    print(\"b is zero\")    "
   ]
  },
  {
   "cell_type": "code",
   "execution_count": 2,
   "metadata": {},
   "outputs": [
    {
     "name": "stdout",
     "output_type": "stream",
     "text": [
      "positive\n"
     ]
    }
   ],
   "source": [
    "# test 2\n",
    "a=int(input(\"number:\"))\n",
    "if a>0:\n",
    "    print(\"positive\")\n",
    "elif a==0:\n",
    "    print(\"zero\")\n",
    "else:\n",
    "    print(\"negative\")    "
   ]
  },
  {
   "cell_type": "code",
   "execution_count": 3,
   "metadata": {},
   "outputs": [
    {
     "name": "stdout",
     "output_type": "stream",
     "text": [
      "Hello world!\n",
      "Hello world!\n",
      "Hello world!\n",
      "Hello world!\n"
     ]
    }
   ],
   "source": [
    "print('Hello world!')\n",
    "print(\"Hello world!\")\n",
    "print('''Hello world!''')\n",
    "print(\"\"\"Hello world!\"\"\")\n"
   ]
  },
  {
   "cell_type": "code",
   "execution_count": 6,
   "metadata": {},
   "outputs": [
    {
     "name": "stdout",
     "output_type": "stream",
     "text": [
      "yes\n"
     ]
    }
   ],
   "source": [
    "# чи ділиться число на 2,3,4,5 \n",
    "a=int(input(\"number:\"))\n",
    "if a%2==0 & a%3==0 & a%4==0 & a%5==0:\n",
    "    print(\"yes\")\n",
    "else:\n",
    "    print(\"no\")\n"
   ]
  },
  {
   "cell_type": "code",
   "execution_count": 7,
   "metadata": {},
   "outputs": [
    {
     "name": "stdout",
     "output_type": "stream",
     "text": [
      "b is zero\n",
      "done\n"
     ]
    }
   ],
   "source": [
    "a=5\n",
    "b=0\n",
    "try: \n",
    "    print(a/b)\n",
    "except ZeroDivisionError:\n",
    "    print(\"b is zero\")\n",
    "finally:\n",
    "    print(\"done\")"
   ]
  },
  {
   "cell_type": "code",
   "execution_count": 9,
   "metadata": {},
   "outputs": [
    {
     "name": "stdout",
     "output_type": "stream",
     "text": [
      "Error: division by zero\n",
      "done\n"
     ]
    }
   ],
   "source": [
    "# якщо не знаємо яка помилка\n",
    "\n",
    "a=5\n",
    "b=0\n",
    "try: \n",
    "    print(a/b)\n",
    "except Exception as e:\n",
    "    print(f\"Error: {e}\")\n",
    "finally:\n",
    "    print(\"done\")"
   ]
  }
 ],
 "metadata": {
  "kernelspec": {
   "display_name": "Python 3",
   "language": "python",
   "name": "python3"
  },
  "language_info": {
   "codemirror_mode": {
    "name": "ipython",
    "version": 3
   },
   "file_extension": ".py",
   "mimetype": "text/x-python",
   "name": "python",
   "nbconvert_exporter": "python",
   "pygments_lexer": "ipython3",
   "version": "3.10.12"
  }
 },
 "nbformat": 4,
 "nbformat_minor": 2
}
